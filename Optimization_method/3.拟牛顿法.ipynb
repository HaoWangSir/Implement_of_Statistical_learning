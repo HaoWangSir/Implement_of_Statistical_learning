{
 "cells": [
  {
   "cell_type": "markdown",
   "metadata": {},
   "source": [
    "拟牛顿法的算法步骤如下：\n",
    "\n",
    "&emsp;&emsp;&emsp;1)  给出$x_0\\in R^n,H_0\\in R^{n*n},0\\le \\epsilon \\le1,k:=0$;\n",
    "  \n",
    "&emsp;&emsp;&emsp;2)  若$\\bigtriangledown f(x^k)\\le \\epsilon$,迭代停止；否则求方向：$d_k=-J_k\\bigtriangledown f(x^k)$\n",
    "  \n",
    "&emsp;&emsp;&emsp;3)  沿着方向做线性搜索$a_k>0$,令$x_{k+1}=x_{k}+a_kd_k$\n",
    "  \n",
    "&emsp;&emsp;&emsp;4)  校正$H_K$产生$H_{k+1}$，使得牛顿条件成立\n",
    "  \n",
    "&emsp;&emsp;&emsp;5)  k=k+1,转第二步\n",
    "\n",
    "### 仅需一阶导数，就能完整整个迭代过程"
   ]
  },
  {
   "cell_type": "code",
   "execution_count": null,
   "metadata": {},
   "outputs": [],
   "source": []
  },
  {
   "cell_type": "code",
   "execution_count": null,
   "metadata": {},
   "outputs": [],
   "source": []
  }
 ],
 "metadata": {
  "kernelspec": {
   "display_name": "Python 3",
   "language": "python",
   "name": "python3"
  },
  "language_info": {
   "codemirror_mode": {
    "name": "ipython",
    "version": 3
   },
   "file_extension": ".py",
   "mimetype": "text/x-python",
   "name": "python",
   "nbconvert_exporter": "python",
   "pygments_lexer": "ipython3",
   "version": "3.6.5"
  }
 },
 "nbformat": 4,
 "nbformat_minor": 2
}
